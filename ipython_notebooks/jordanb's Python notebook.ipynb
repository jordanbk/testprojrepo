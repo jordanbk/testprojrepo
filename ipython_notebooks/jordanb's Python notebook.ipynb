{
  "metadata": {
    "kernelspec": {
      "name": "py-dku-venv-py37",
      "display_name": "Python (env py37)",
      "language": "python"
    },
    "hide_input": false,
    "language_info": {
      "name": "python",
      "version": "3.7.13",
      "mimetype": "text/x-python",
      "codemirror_mode": {
        "name": "ipython",
        "version": 3
      },
      "pygments_lexer": "ipython3",
      "nbconvert_exporter": "python",
      "file_extension": ".py"
    },
    "modifiedBy": "admin",
    "creator": "jordanb",
    "customFields": {
      "pb": true
    },
    "tags": [],
    "createdOn": 1725987373917
  },
  "nbformat": 4,
  "nbformat_minor": 1,
  "cells": [
    {
      "execution_count": 0,
      "cell_type": "code",
      "metadata": {},
      "source": [
        "import repointing"
      ],
      "outputs": []
    },
    {
      "execution_count": 0,
      "cell_type": "code",
      "metadata": {},
      "source": [
        "import dataiku\nfrom dataiku import pandasutils as pdu\nimport pandas as pd"
      ],
      "outputs": []
    },
    {
      "execution_count": 0,
      "cell_type": "code",
      "metadata": {},
      "source": [
        "app_id \u003d \"GIT_bZR86AEb\"\ninput_folder_id \u003d \"ZvEHanjI\" ###################################################### INPUT FOLDER\nprocessing_folder_id \u003d \"sG1Xn5Ah\" ###################################################### CONNECTED FOLDER TO FLOW\nrun_scenario_id \u003d \"msa_run\" ###################################################### SCENARIO\n\nclient \u003d dataiku.api_client()\ninput_folder \u003d dataiku.Folder(input_folder_id)\n​\n​\ndef process_file(file_name):\n#CREATE TEMP APPLICATION AND ACCESS DESIRED PROCESSING FOLDER\ninstance \u003d client.get_app(app_id).create_temporary_instance()\nproject \u003d instance.get_as_project()\ncurrently_processing_folder \u003d project.get_managed_folder(processing_folder_id)\n\n#WRITE FILE TO TEMP APPLICATION AND DELETE FROM INPUT FOLDER\nwith input_folder.get_download_stream(file_name) as f:\n    currently_processing_folder.put_file(file_name, f)\n    input_folder.delete_path(file_name)"
      ],
      "outputs": []
    },
    {
      "execution_count": 0,
      "cell_type": "code",
      "metadata": {},
      "source": [
        ""
      ],
      "outputs": []
    }
  ]
}