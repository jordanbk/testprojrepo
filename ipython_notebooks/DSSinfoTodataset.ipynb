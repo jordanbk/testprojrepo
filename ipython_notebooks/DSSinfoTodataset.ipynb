{
  "metadata": {
    "kernelspec": {
      "name": "py-dku-venv-py37",
      "display_name": "Python (env py37)",
      "language": "python"
    },
    "hide_input": false,
    "language_info": {
      "name": "python",
      "version": "3.7.13",
      "mimetype": "text/x-python",
      "codemirror_mode": {
        "name": "ipython",
        "version": 3
      },
      "pygments_lexer": "ipython3",
      "nbconvert_exporter": "python",
      "file_extension": ".py"
    },
    "customFields": {},
    "tags": [],
    "creator": "admin",
    "createdOn": 1716912520423,
    "modifiedBy": "admin"
  },
  "nbformat": 4,
  "nbformat_minor": 1,
  "cells": [
    {
      "execution_count": 0,
      "cell_type": "code",
      "metadata": {},
      "source": [
        "%pylab inline"
      ],
      "outputs": []
    },
    {
      "execution_count": 0,
      "cell_type": "code",
      "metadata": {},
      "source": [
        "import dataiku\nfrom dataiku import pandasutils as pdu\nimport pandas as pd"
      ],
      "outputs": []
    },
    {
      "execution_count": 0,
      "cell_type": "code",
      "metadata": {},
      "source": [
        "import dataiku\nimport dataikuapi\nfrom dataiku import pandasutils as pdu\nimport pandas as pd\nimport json\n\nclient \u003d dataiku.api_client()\n\n#universal function to merge two dictionaries\ndef merge_two_dicts(x, y):\n    z \u003d x.copy()   # start with x\u0027s keys and values\n    z.update(y)    # modifies z with y\u0027s keys and values \u0026 returns None\n    return z\n\nprojects \u003d client.list_project_keys() #get all project keys\n\ndf \u003d pd.DataFrame(columns\u003d[\u0027projectName\u0027, \u0027connectionType\u0027, \u0027datasetName\u0027])\n\nfor project_key in projects:\n    current_project \u003d client.get_project(project_key)\n    all_datasets \u003d current_project.list_datasets()\n    for dataset_list_item in all_datasets:\n        dataset \u003d current_project.get_dataset(dataset_list_item[\"name\"])\n        dataset_settings \u003d dataset.get_settings()\n        datasetDetails \u003d {\u0027projectName\u0027: project_key, \u0027connectionType\u0027: dataset_settings.get_raw()[\u0027type\u0027], \u0027datasetName\u0027: dataset_list_item[\"name\"]}\n        row \u003d merge_two_dicts(datasetDetails, column)\n        df \u003d df.append(row, ignore_index\u003dTrue)\nprint(df)\n"
      ],
      "outputs": []
    },
    {
      "execution_count": 0,
      "cell_type": "code",
      "metadata": {},
      "source": [
        ""
      ],
      "outputs": []
    }
  ]
}