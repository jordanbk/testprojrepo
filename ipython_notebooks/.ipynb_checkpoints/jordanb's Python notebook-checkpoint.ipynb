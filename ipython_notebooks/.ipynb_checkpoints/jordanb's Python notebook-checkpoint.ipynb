{
  "metadata": {
    "kernelspec": {
      "name": "py-dku-venv-py37",
      "display_name": "Python (env py37)",
      "language": "python"
    },
    "hide_input": false,
    "language_info": {
      "name": "python",
      "version": "3.7.13",
      "mimetype": "text/x-python",
      "codemirror_mode": {
        "name": "ipython",
        "version": 3
      },
      "pygments_lexer": "ipython3",
      "nbconvert_exporter": "python",
      "file_extension": ".py"
    },
    "creator": "jordanb",
    "tags": [],
    "modifiedBy": "admin",
    "createdOn": 1725987373917,
    "customFields": {
      "pb": true
    }
  },
  "nbformat": 4,
  "nbformat_minor": 1,
  "cells": [
    {
      "execution_count": 0,
      "cell_type": "code",
      "metadata": {},
      "source": [
        "import repointing"
      ],
      "outputs": []
    },
    {
      "execution_count": 0,
      "cell_type": "code",
      "metadata": {},
      "source": [
        "import dataiku\nfrom dataiku import pandasutils as pdu\nimport pandas as pd"
      ],
      "outputs": []
    },
    {
      "execution_count": 0,
      "cell_type": "code",
      "metadata": {},
      "source": [
        "import dataiku\nimport time\nfrom dataiku.scenario import Scenario\n\n\ndef create_or_update_deployment(api_service_name, service_id, deployment_id, version):\n    \"\"\"\n    Create or update an API deployment with the given details.\n    \"\"\"\n    slb_client \u003d dataiku.api_client()\n    apideployer \u003d slb_client.get_apideployer()\n    project \u003d slb_client.get_project(dataiku.default_project_key())\n    api_infrastructure_id \u003d apideployer.list_infras()[0].id\n\n    # Get the API service\n    api_service \u003d project.get_api_service(service_id)\n    assert api_service.get_settings(), f\"Service {api_service} not found\"\n\n    # Check if the package with the given version exists\n    existing_packages \u003d api_service.list_packages()\n    package_exists \u003d any(item[\u0027id\u0027] \u003d\u003d version for item in existing_packages)\n\n    if not package_exists:\n        print(f\"Creating Version {version}...\")\n        api_service.create_package(version)\n\n    if not apideployer.get_service(service_id):\n        print(f\"Creating Service {service_id}...\")\n        apideployer.create_service(service_id)\n\n    try:\n        print(f\"Publishing package {version} to {service_id}...\")\n        api_service.publish_package(version, service_id)\n    except Exception as e:\n        print(f\"Version {version} already exists for this published API: {e}\")\n\n    try:\n        deployment \u003d apideployer.get_deployment(deployment_id)\n        deployment_status \u003d deployment.get_status().get_health()\n        print(f\"Deployment status: {deployment_status}\")\n\n        if deployment_status !\u003d \"HEALTHY\":\n            deployment \u003d None\n    except Exception as e:\n        print(f\"Deployment {deployment_id} is corrupted: {e}\")\n        deployment \u003d None\n\n    if deployment is None:\n        print(f\"Deploying {deployment_id}...\")\n        deployment \u003d apideployer.create_deployment(\n            deployment_id,\n            service_id,\n            api_infrastructure_id,\n            version\n        )\n\n    # Start and wait for the deployment update\n    deployment.start_update().wait_for_result()\n\ndef clean_up(api_service_name, service_id, deployment_id, version):\n    \"\"\"\n    Delete API deployment, API service package, and service based on provided details.\n    \"\"\"\n    slb_client \u003d dataiku.api_client()\n    apideployer \u003d slb_client.get_apideployer()\n    project \u003d slb_client.get_project(dataiku.default_project_key())\n\n    def delete_with_error_handling(delete_function, entity_name):\n        try:\n            delete_function()\n        except Exception as error:\n            print(f\"Error deleting {entity_name}: {error}\")\n\n    delete_with_error_handling(lambda: delete_deployment(apideployer, deployment_id), \"deployment\")\n    delete_with_error_handling(lambda: project.get_api_service(api_service_name).delete_package(version), \"API service package\")\n    delete_with_error_handling(lambda: apideployer.get_service(service_id).delete(), \"service\")\n\n\ndef delete_deployment(apideployer, deployment_id):\n    deployment \u003d apideployer.get_deployment(deployment_id)\n    deployment_settings \u003d deployment.get_settings()\n    deployment_settings.set_enabled(False)\n    deployment_settings.save(ignore_warnings\u003dTrue)\n    deployment.start_update().wait_for_result() # Update the deployment to disable it\n    deployment.delete(ignore_pre_delete_errors\u003dTrue)\n\n\n\ndef main():\n    # Define API deployment details\n    api_service_name \u003d \"myservice\"\n    service_id \u003d \"myservice\"\n    deployment_id \u003d \"apiservicedeployment\"\n    version \u003d \"v2\"\n\n    # Create or update the deployment\n    create_or_update_deployment(api_service_name, service_id, deployment_id, version)\n\n    # Set scenario variables\n    scenario \u003d Scenario()\n    clean_up(api_service_name, service_id, deployment_id, version)\n\n\nmain()\n"
      ],
      "outputs": []
    },
    {
      "execution_count": 0,
      "cell_type": "code",
      "metadata": {},
      "source": [
        "app_id \u003d \"GIT_bZR86AEb\"\ninput_folder_id \u003d \"SiIW2nU7\" ###################################################### INPUT FOLDER\nprocessing_folder_id \u003d \"ZvEHanjI\" ###################################################### CONNECTED FOLDER TO FLOW\nrun_scenario_id \u003d \"msa_run\" ###################################################### SCENARIO\n\nclient \u003d dataiku.api_client()\ninput_folder \u003d dataiku.Folder(input_folder_id)\n​\n​\ndef process_file(file_name):\n#CREATE TEMP APPLICATION AND ACCESS DESIRED PROCESSING FOLDER\ninstance \u003d client.get_app(app_id).create_temporary_instance()\nproject \u003d instance.get_as_project()\ncurrently_processing_folder \u003d project.get_managed_folder(processing_folder_id)\n\n#WRITE FILE TO TEMP APPLICATION AND DELETE FROM INPUT FOLDER\nwith input_folder.get_download_stream(file_name) as f:\n    currently_processing_folder.put_file(file_name, f)\n    input_folder.delete_path(file_name)\n    \n"
      ],
      "outputs": []
    },
    {
      "execution_count": 0,
      "cell_type": "code",
      "metadata": {},
      "source": [
        ""
      ],
      "outputs": []
    }
  ]
}