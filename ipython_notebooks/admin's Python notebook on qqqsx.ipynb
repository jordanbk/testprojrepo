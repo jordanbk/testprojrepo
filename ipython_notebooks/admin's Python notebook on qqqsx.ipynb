{
  "metadata": {
    "kernelspec": {
      "name": "python3",
      "display_name": "Python 3",
      "language": "python"
    },
    "language_info": {
      "name": "python",
      "version": "3.7.13",
      "mimetype": "text/x-python",
      "codemirror_mode": {
        "name": "ipython",
        "version": 3
      },
      "pygments_lexer": "ipython3",
      "nbconvert_exporter": "python",
      "file_extension": ".py"
    },
    "tags": [],
    "analyzedDataset": "qqqsx",
    "creator": "admin",
    "customFields": {},
    "modifiedBy": "admin",
    "createdOn": 1681903864790,
    "hide_input": false
  },
  "nbformat": 4,
  "nbformat_minor": 1,
  "cells": [
    {
      "execution_count": 0,
      "cell_type": "code",
      "metadata": {},
      "source": [
        "%pylab inline"
      ],
      "outputs": []
    },
    {
      "execution_count": 0,
      "cell_type": "code",
      "metadata": {},
      "source": [
        "import dataiku\nfrom dataiku import pandasutils as pdu\nimport pandas as pd\nclient \u003d dataiku.api_client()"
      ],
      "outputs": []
    },
    {
      "execution_count": 0,
      "cell_type": "code",
      "metadata": {},
      "source": [
        "client \u003d dataiku.api_client()\nfor project_key in client.list_project_keys():\n    print(\"*** EXPOSED FROM PROJECT %s ***\" % (project_key))\n    p \u003d client.get_project(project_key)\n    for exposed_object in p.get_settings().get_raw()[\"exposedObjects\"][\"objects\"]:\n        connection \u003d p.get_dataset(exposed_object[\"localName\"]).get_definition().get(\u0027params\u0027).get(\u0027connection\u0027)\n        print \"    Object id\u003d%s type\u003d%s db\u003d%s is exposed to projects:\" % (exposed_object[\"localName\"], exposed_object[\"type\"], connection)\n        for rule in exposed_object[\"rules\"]:\n            print(\"      %s\" % rule[\"targetProject\"])"
      ],
      "outputs": []
    },
    {
      "execution_count": 0,
      "cell_type": "code",
      "metadata": {},
      "source": [
        "# Read the dataset as a Pandas dataframe in memory\n# Note: here, we only read the first 100K rows. Other sampling options are available\ndataset_qqqsx \u003d dataiku.Dataset(\"qqqsx\")\ndf \u003d dataset_qqqsx.get_dataframe(limit\u003d100000)"
      ],
      "outputs": []
    },
    {
      "execution_count": 0,
      "cell_type": "code",
      "metadata": {},
      "source": [
        "# Get some simple descriptive statistics\npdu.audit(df)"
      ],
      "outputs": []
    },
    {
      "execution_count": 0,
      "cell_type": "code",
      "metadata": {},
      "source": [
        "cols \u003d df.columns"
      ],
      "outputs": []
    },
    {
      "execution_count": 0,
      "cell_type": "code",
      "metadata": {},
      "source": [
        "df"
      ],
      "outputs": []
    },
    {
      "execution_count": 0,
      "cell_type": "code",
      "metadata": {},
      "source": [
        "df_re \u003d df.rename(columns\u003d{\"ref_date\": \"a\"})"
      ],
      "outputs": []
    },
    {
      "execution_count": 0,
      "cell_type": "code",
      "metadata": {},
      "source": [
        "df_re[cols]"
      ],
      "outputs": []
    },
    {
      "execution_count": 0,
      "cell_type": "code",
      "metadata": {},
      "source": [
        ""
      ],
      "outputs": []
    }
  ]
}