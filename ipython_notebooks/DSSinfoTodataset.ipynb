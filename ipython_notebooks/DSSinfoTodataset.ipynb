{
  "metadata": {
    "kernelspec": {
      "name": "py-dku-venv-py37",
      "display_name": "Python (env py37)",
      "language": "python"
    },
    "hide_input": false,
    "language_info": {
      "name": "python",
      "version": "3.7.13",
      "mimetype": "text/x-python",
      "codemirror_mode": {
        "name": "ipython",
        "version": 3
      },
      "pygments_lexer": "ipython3",
      "nbconvert_exporter": "python",
      "file_extension": ".py"
    },
    "customFields": {},
    "tags": [],
    "creator": "admin",
    "createdOn": 1716912520423,
    "modifiedBy": "admin"
  },
  "nbformat": 4,
  "nbformat_minor": 1,
  "cells": [
    {
      "execution_count": 0,
      "cell_type": "code",
      "metadata": {},
      "source": [
        "%pylab inline"
      ],
      "outputs": []
    },
    {
      "execution_count": 0,
      "cell_type": "code",
      "metadata": {},
      "source": [
        "list_dataset \u003d list()\nlist_user \u003d list()\nlist_project \u003d list()\n\nprojects \u003d client.list_project_keys()\nfor project_key in projects:\n    current_project \u003d client.get_project(project_key)\n    print(current_project.project_key)\n    all_datasets \u003d current_project.list_datasets()\n    for dataset in all_datasets:\n        ds_name \u003d dataset[\"name\"]\n        ds_pk \u003d dataset[\"projectKey\"]\n        try: \n            lastModified \u003d dataset[\"versionTag\"][\"lastModifiedBy\"][\"login\"]\n        except:\n            lastModified \u003d \"No user for this dataset\"\n        list_project.append(ds_pk)\n        list_user.append(lastModified)\n        list_dataset.append(dataset.name)\n        \nuserLastModifiedDs \u003d pd.DataFrame({\n    \u0027project_name\u0027: list_project,\n    \u0027dataset_name\u0027:list_dataset,\n    \u0027user\u0027:list_user})\n\ndisplay(userLastModifiedDs)"
      ],
      "outputs": []
    },
    {
      "execution_count": 0,
      "cell_type": "code",
      "metadata": {},
      "source": [
        "import dataiku\nimport dataikuapi\nfrom dataiku import pandasutils as pdu\nimport pandas as pd\nimport json\n\nclient \u003d dataiku.api_client()\n\n#universal function to merge two dictionaries\ndef merge_two_dicts(x, y):\n    z \u003d x.copy()   # start with x\u0027s keys and values\n    z.update(y)    # modifies z with y\u0027s keys and values \u0026 returns None\n    return z\n\nprojects \u003d client.list_project_keys() #get all project keys\n\ndf \u003d pd.DataFrame(columns\u003d[\u0027projectName\u0027, \u0027connectionType\u0027, \u0027datasetName\u0027])\n\nfor project_key in projects:\n    current_project \u003d client.get_project(project_key)\n    all_datasets \u003d current_project.list_datasets()\n    for ds in all_datasets:\n        dataset \u003d current_project.get_dataset(ds[\"name\"])\n        dataset_settings \u003d dataset.get_settings()\n        dsDetails \u003d {\u0027projectName\u0027: project_key, \u0027connectionType\u0027: dataset_settings.get_raw()[\u0027type\u0027], \u0027datasetName\u0027: dataset.name}\n    all_scenarios \u003d current_project.list_scenarios(as_type\u003d\u0027listitems\u0027):\n    for s in all_scenarios:\n        scenario \u003d project.get_sceneario(s.id)\n        \n    row \u003d merge_two_dicts(dsDetails, column)\n    df \u003d df.append(row, ignore_index\u003dTrue)\nprint(df)\n"
      ],
      "outputs": []
    },
    {
      "execution_count": 0,
      "cell_type": "code",
      "metadata": {},
      "source": [
        "import dataiku\nimport dataikuapi\nfrom dataiku import pandasutils as pdu\nimport pandas as pd\nimport json\n\nclient \u003d dataiku.api_client()\n\n#universal function to merge two dictionaries\ndef merge_two_dicts(x, y):\n    z \u003d x.copy()   # start with x\u0027s keys and values\n    z.update(y)    # modifies z with y\u0027s keys and values \u0026 returns None\n    return z\n\nprojects \u003d client.list_project_keys() #get all project keys\n\ndf \u003d pd.DataFrame(columns\u003d[\u0027project_name\u0027, \u0027connection_type\u0027, \u0027dataset_name\u0027])\n\nfor project_key in projects:\n    current_project \u003d client.get_project(project_key)\n    all_datasets \u003d current_project.list_datasets()\n    for ds in all_datasets:\n        dataset \u003d current_project.get_dataset(ds[\"name\"])\n        dataset_settings \u003d dataset.get_settings()\n        dsDetails \u003d {\u0027project_name\u0027: project_key, \u0027connection_type\u0027: dataset_settings.get_raw()[\u0027type\u0027], \u0027dataset_name\u0027: dataset.name}\n    df \u003d df.append(dsDetails, ignore_index\u003dTrue)\nprint(df)\n"
      ],
      "outputs": []
    },
    {
      "execution_count": 0,
      "cell_type": "code",
      "metadata": {},
      "source": [
        "import dataiku\n"
      ],
      "outputs": []
    },
    {
      "execution_count": 0,
      "cell_type": "code",
      "metadata": {},
      "source": [
        "client \u003d dataiku.api_client()\nprojects \u003d client.list_project_keys()\n\nfor proj in projects:\n    project \u003d client.get_project(proj)\n    for s in project.list_scenarios(as_type\u003d\u0027listitems\u0027):\n        scenario \u003d project.get_scenario(s[\u0027id\u0027])\n        settings \u003d scenario.get_settings()\n        raw \u003d settings.get_raw()\n        print(raw[\u0027id\u0027])\n        datasetDetails \u003d {\u0027projectName\u0027: raw[\u0027projectKey\u0027], \u0027scenario_name\u0027: raw[\u0027id\u0027]}\n    df \u003d pd.DataFrame(datasetDetails, ignore_index\u003dTrue)\nprint(df)"
      ],
      "outputs": []
    },
    {
      "execution_count": 0,
      "cell_type": "code",
      "metadata": {},
      "source": [
        "import pandas as pd\nclient \u003d dataiku.api_client()\n\nfor proj in client.list_project_keys():\n    project \u003d client.get_project(proj)\n    for s in project.list_scenarios(as_type\u003d\u0027listitems\u0027):\n        scenario \u003d project.get_scenario(s.id)\n        settings \u003d scenario.get_settings()\n        raw \u003d settings.get_raw()\n        details \u003d {\u0027projectName\u0027: project.project_key, \u0027scenario_name\u0027: scenario}\n    df \u003d pd.DataFrame(details, ignore_index\u003dTrue)\nprint(df)"
      ],
      "outputs": []
    },
    {
      "execution_count": 0,
      "cell_type": "code",
      "metadata": {},
      "source": [
        ""
      ],
      "outputs": []
    }
  ]
}