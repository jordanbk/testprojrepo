{
  "metadata": {
    "kernelspec": {
      "name": "python3",
      "display_name": "Python 3",
      "language": "python"
    },
    "hide_input": false,
    "language_info": {
      "name": "python",
      "version": "3.7.13",
      "mimetype": "text/x-python",
      "codemirror_mode": {
        "name": "ipython",
        "version": 3
      },
      "pygments_lexer": "ipython3",
      "nbconvert_exporter": "python",
      "file_extension": ".py"
    },
    "modifiedBy": "jordanb",
    "creator": "admin",
    "customFields": {},
    "tags": [
      "deleted-recipe-editor"
    ],
    "createdOn": 1712264169366
  },
  "nbformat": 4,
  "nbformat_minor": 1,
  "cells": [
    {
      "execution_count": 0,
      "cell_type": "code",
      "metadata": {},
      "source": [
        "import repointing"
      ],
      "outputs": []
    },
    {
      "execution_count": 0,
      "cell_type": "code",
      "metadata": {},
      "source": [
        "import dataiku\nclient \u003d dataiku.api_client()\nproject \u003d client.get_project(\"TEST\")\nrecipe \u003d project.get_recipe(\"compute_us_tornado_test\")\nrecipe.get_settings().get_recipe_inputs()"
      ],
      "outputs": []
    },
    {
      "execution_count": 0,
      "cell_type": "code",
      "metadata": {},
      "source": [
        "# Read recipe inputs\nus_tornado_dataset_1950_2021_prepared \u003d dataiku.Dataset(\"us_tornado_dataset_1950_2021_prepared\")\nus_tornado_dataset_1950_2021_prepared_df \u003d us_tornado_dataset_1950_2021_prepared.get_dataframe()\n\n\n# Compute recipe outputs from inputs\n# TODO: Replace this part by your actual code that computes the output, as a Pandas dataframe\n# NB: DSS also supports other kinds of APIs for reading and writing data. Please see doc.\n\nus_tornado_test_df \u003d us_tornado_dataset_1950_2021_prepared_df # For this sample code, simply copy input to output\n\n\n# Write recipe outputs\nus_tornado_test \u003d dataiku.Dataset(\"us_tornado_test\")\nus_tornado_test.write_with_schema(us_tornado_test_df)"
      ],
      "outputs": []
    }
  ]
}