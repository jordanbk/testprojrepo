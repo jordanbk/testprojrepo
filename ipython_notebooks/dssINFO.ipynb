{
  "metadata": {
    "kernelspec": {
      "name": "py-dku-venv-py37",
      "display_name": "Python (env py37)",
      "language": "python"
    },
    "hide_input": false,
    "language_info": {
      "name": "python",
      "version": "3.7.13",
      "mimetype": "text/x-python",
      "codemirror_mode": {
        "name": "ipython",
        "version": 3
      },
      "pygments_lexer": "ipython3",
      "nbconvert_exporter": "python",
      "file_extension": ".py"
    },
    "customFields": {},
    "tags": [],
    "creator": "admin",
    "createdOn": 1716913939143,
    "modifiedBy": "admin"
  },
  "nbformat": 4,
  "nbformat_minor": 1,
  "cells": [
    {
      "execution_count": 0,
      "cell_type": "code",
      "metadata": {},
      "source": [
        "%pylab inline"
      ],
      "outputs": []
    },
    {
      "execution_count": 0,
      "cell_type": "code",
      "metadata": {},
      "source": [
        "import dataiku\nfrom dataiku import pandasutils as pdu\nimport pandas as pd"
      ],
      "outputs": []
    },
    {
      "execution_count": 0,
      "cell_type": "code",
      "metadata": {},
      "source": [
        "import pandas as pd\nclient \u003d dataiku.api_client()\n\nfor proj in client.list_project_keys():\n    project \u003d client.get_project(proj)\n    for s in project.list_scenarios(as_type\u003d\u0027listitems\u0027):\n        scenario \u003d project.get_scenario(s.id)\n        settings \u003d scenario.get_settings()\n        raw \u003d settings.get_raw()\n    details \u003d {\u0027projectName\u0027: project.project_key, \u0027scenario_name\u0027: scenario}\n    df \u003d pd.DataFrame(data\u003ddetails)\nprint(df)"
      ],
      "outputs": []
    },
    {
      "execution_count": 0,
      "cell_type": "code",
      "metadata": {},
      "source": [
        ""
      ],
      "outputs": []
    }
  ]
}