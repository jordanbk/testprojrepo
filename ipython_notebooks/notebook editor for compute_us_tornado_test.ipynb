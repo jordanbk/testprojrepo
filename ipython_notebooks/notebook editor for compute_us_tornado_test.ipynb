{
  "nbformat": 4,
  "nbformat_minor": 0,
  "metadata": {
    "kernelspec": {
      "display_name": "Python 3",
      "language": "python",
      "name": "python3"
    },
    "associatedRecipe": "compute_us_tornado_test",
    "creator": "admin",
    "createdOn": 1712264169366,
    "tags": [
      "recipe-editor"
    ],
    "customFields": {}
  },
  "cells": [
    {
      "cell_type": "code",
      "metadata": {},
      "outputs": [],
      "execution_count": 0,
      "source": [
        "# -*- coding: utf-8 -*-\n",
        "import dataiku\n",
        "import pandas as pd, numpy as np\n",
        "from dataiku import pandasutils as pdu\n",
        "\n",
        "# Read recipe inputs\n",
        "us_tornado_dataset_1950_2021_prepared \u003d dataiku.Dataset(\"us_tornado_dataset_1950_2021_prepared\")\n",
        "us_tornado_dataset_1950_2021_prepared_df \u003d us_tornado_dataset_1950_2021_prepared.get_dataframe()\n",
        "\n",
        "\n",
        "# Compute recipe outputs from inputs\n",
        "# TODO: Replace this part by your actual code that computes the output, as a Pandas dataframe\n",
        "# NB: DSS also supports other kinds of APIs for reading and writing data. Please see doc.\n",
        "\n",
        "us_tornado_test_df \u003d us_tornado_dataset_1950_2021_prepared_df # For this sample code, simply copy input to output\n",
        "\n",
        "\n",
        "# Write recipe outputs\n",
        "us_tornado_test \u003d dataiku.Dataset(\"us_tornado_test\")\n",
        "us_tornado_test.write_with_schema(us_tornado_test_df)"
      ]
    }
  ]
}